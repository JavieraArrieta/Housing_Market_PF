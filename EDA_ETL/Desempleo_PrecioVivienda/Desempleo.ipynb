{
 "cells": [
  {
   "cell_type": "code",
   "execution_count": 3,
   "metadata": {},
   "outputs": [],
   "source": [
    "import pandas as pd\n",
    "import numpy as np\n",
    "import matplotlib.pyplot as plt\n",
    "import seaborn as sns"
   ]
  },
  {
   "cell_type": "code",
   "execution_count": 4,
   "metadata": {},
   "outputs": [],
   "source": [
    "df = pd.read_csv('Tasa_desempleo_API.csv')"
   ]
  },
  {
   "cell_type": "markdown",
   "metadata": {},
   "source": [
    "Necesitamos que la fecha tenga formato Año-Mes"
   ]
  },
  {
   "cell_type": "markdown",
   "metadata": {},
   "source": [
    "Primero cambiamos los meses por su numero correspondiente"
   ]
  },
  {
   "cell_type": "code",
   "execution_count": 5,
   "metadata": {},
   "outputs": [],
   "source": [
    "df['Mes'] = df['Mes'].str.replace('Enero', '01')\n",
    "df['Mes'] = df['Mes'].str.replace('Febrero', '02')\n",
    "df['Mes'] = df['Mes'].str.replace('Marzo', '03')\n",
    "df['Mes'] = df['Mes'].str.replace('Abril', '04')\n",
    "df['Mes'] = df['Mes'].str.replace('Mayo', '05')\n",
    "df['Mes'] = df['Mes'].str.replace('Junio', '06')\n",
    "df['Mes'] = df['Mes'].str.replace('Julio', '07')\n",
    "df['Mes'] = df['Mes'].str.replace('Agosto', '08')\n",
    "df['Mes'] = df['Mes'].str.replace('Septiembre', '09')\n",
    "df['Mes'] = df['Mes'].str.replace('Octubre', '10')\n",
    "df['Mes'] = df['Mes'].str.replace('Noviembre', '11')\n",
    "df['Mes'] = df['Mes'].str.replace('Diciembre', '12')"
   ]
  },
  {
   "cell_type": "code",
   "execution_count": 6,
   "metadata": {},
   "outputs": [
    {
     "name": "stdout",
     "output_type": "stream",
     "text": [
      "<class 'pandas.core.frame.DataFrame'>\n",
      "RangeIndex: 6000 entries, 0 to 5999\n",
      "Data columns (total 4 columns):\n",
      " #   Column             Non-Null Count  Dtype  \n",
      "---  ------             --------------  -----  \n",
      " 0   Estado             6000 non-null   object \n",
      " 1   Año                6000 non-null   int64  \n",
      " 2   Mes                6000 non-null   object \n",
      " 3   Tasa de desempleo  6000 non-null   float64\n",
      "dtypes: float64(1), int64(1), object(2)\n",
      "memory usage: 187.6+ KB\n"
     ]
    }
   ],
   "source": [
    "df.info()"
   ]
  },
  {
   "cell_type": "markdown",
   "metadata": {},
   "source": [
    "Cambiamos el tipo de dato"
   ]
  },
  {
   "cell_type": "code",
   "execution_count": 7,
   "metadata": {},
   "outputs": [],
   "source": [
    "df['Año'] = df['Año'].astype('string')"
   ]
  },
  {
   "cell_type": "code",
   "execution_count": 8,
   "metadata": {},
   "outputs": [],
   "source": [
    "df['Año'] = df['Año'].astype('object')"
   ]
  },
  {
   "cell_type": "markdown",
   "metadata": {},
   "source": [
    "Unimos las dos columnas"
   ]
  },
  {
   "cell_type": "code",
   "execution_count": 9,
   "metadata": {},
   "outputs": [],
   "source": [
    "df['Fecha'] = df.Año + '-' +  df.Mes"
   ]
  },
  {
   "cell_type": "code",
   "execution_count": 10,
   "metadata": {},
   "outputs": [
    {
     "name": "stdout",
     "output_type": "stream",
     "text": [
      "<class 'pandas.core.frame.DataFrame'>\n",
      "RangeIndex: 6000 entries, 0 to 5999\n",
      "Data columns (total 5 columns):\n",
      " #   Column             Non-Null Count  Dtype  \n",
      "---  ------             --------------  -----  \n",
      " 0   Estado             6000 non-null   object \n",
      " 1   Año                6000 non-null   object \n",
      " 2   Mes                6000 non-null   object \n",
      " 3   Tasa de desempleo  6000 non-null   float64\n",
      " 4   Fecha              6000 non-null   object \n",
      "dtypes: float64(1), object(4)\n",
      "memory usage: 234.5+ KB\n"
     ]
    }
   ],
   "source": [
    "df.info()"
   ]
  },
  {
   "cell_type": "code",
   "execution_count": 11,
   "metadata": {},
   "outputs": [
    {
     "data": {
      "text/html": [
       "<div>\n",
       "<style scoped>\n",
       "    .dataframe tbody tr th:only-of-type {\n",
       "        vertical-align: middle;\n",
       "    }\n",
       "\n",
       "    .dataframe tbody tr th {\n",
       "        vertical-align: top;\n",
       "    }\n",
       "\n",
       "    .dataframe thead th {\n",
       "        text-align: right;\n",
       "    }\n",
       "</style>\n",
       "<table border=\"1\" class=\"dataframe\">\n",
       "  <thead>\n",
       "    <tr style=\"text-align: right;\">\n",
       "      <th></th>\n",
       "      <th>Tasa de desempleo</th>\n",
       "    </tr>\n",
       "  </thead>\n",
       "  <tbody>\n",
       "    <tr>\n",
       "      <th>count</th>\n",
       "      <td>6000.000000</td>\n",
       "    </tr>\n",
       "    <tr>\n",
       "      <th>mean</th>\n",
       "      <td>5.752450</td>\n",
       "    </tr>\n",
       "    <tr>\n",
       "      <th>std</th>\n",
       "      <td>2.253872</td>\n",
       "    </tr>\n",
       "    <tr>\n",
       "      <th>min</th>\n",
       "      <td>1.900000</td>\n",
       "    </tr>\n",
       "    <tr>\n",
       "      <th>25%</th>\n",
       "      <td>4.000000</td>\n",
       "    </tr>\n",
       "    <tr>\n",
       "      <th>50%</th>\n",
       "      <td>5.300000</td>\n",
       "    </tr>\n",
       "    <tr>\n",
       "      <th>75%</th>\n",
       "      <td>7.200000</td>\n",
       "    </tr>\n",
       "    <tr>\n",
       "      <th>max</th>\n",
       "      <td>13.900000</td>\n",
       "    </tr>\n",
       "  </tbody>\n",
       "</table>\n",
       "</div>"
      ],
      "text/plain": [
       "       Tasa de desempleo\n",
       "count        6000.000000\n",
       "mean            5.752450\n",
       "std             2.253872\n",
       "min             1.900000\n",
       "25%             4.000000\n",
       "50%             5.300000\n",
       "75%             7.200000\n",
       "max            13.900000"
      ]
     },
     "execution_count": 11,
     "metadata": {},
     "output_type": "execute_result"
    }
   ],
   "source": [
    "df.describe()"
   ]
  },
  {
   "cell_type": "markdown",
   "metadata": {},
   "source": [
    "Histograma de la tasa de desempleo <br>\n"
   ]
  },
  {
   "cell_type": "code",
   "execution_count": 12,
   "metadata": {},
   "outputs": [
    {
     "data": {
      "image/png": "[encoded data removed]",
      "text/plain": [
       "<Figure size 432x288 with 1 Axes>"
      ]
     },
     "metadata": {
      "needs_background": "light"
     },
     "output_type": "display_data"
    }
   ],
   "source": [
    "sns.histplot(x = 'Tasa de desempleo', data= df, kde = True)\n",
    "plt.show()"
   ]
  },
  {
   "cell_type": "markdown",
   "metadata": {},
   "source": [
    "https://us.as.com/us/2021/12/03/actualidad/1638569408_606361.html <br>\n",
    "\n",
    "\"Estados Unidos cambió el término de tasa natural de desempleo a “tasa de desempleo no cíclica”. En el cuarto y último trimestre de este 21, la estimación de esta tasa se encuentra en un 4.4506%. Se estima que para el primer trimestre del 2022 sea de 4.44514%.\""
   ]
  },
  {
   "cell_type": "code",
   "execution_count": 13,
   "metadata": {},
   "outputs": [
    {
     "name": "stdout",
     "output_type": "stream",
     "text": [
      "Promedio general: 5.75245\n"
     ]
    }
   ],
   "source": [
    "print('Promedio general:', df['Tasa de desempleo'].mean() )"
   ]
  },
  {
   "cell_type": "markdown",
   "metadata": {},
   "source": [
    "La tasa de desempleo anual vemos que es variable al promedio general"
   ]
  },
  {
   "cell_type": "code",
   "execution_count": 14,
   "metadata": {},
   "outputs": [
    {
     "name": "stdout",
     "output_type": "stream",
     "text": [
      "Promedio general del año 2010 : 8.74\n",
      "Promedio general del año 2011 : 8.08\n",
      "Promedio general del año 2012 : 7.29\n",
      "Promedio general del año 2013 : 6.71\n",
      "Promedio general del año 2014 : 5.71\n",
      "Promedio general del año 2015 : 4.97\n",
      "Promedio general del año 2016 : 4.63\n",
      "Promedio general del año 2017 : 4.12\n",
      "Promedio general del año 2018 : 3.73\n",
      "Promedio general del año 2019 : 3.54\n"
     ]
    }
   ],
   "source": [
    "for i in df.Año.unique():\n",
    "    x = df[df['Año'] == i]\n",
    "    print('Promedio general del año', i,':', round(x['Tasa de desempleo'].mean(), 2))"
   ]
  },
  {
   "cell_type": "markdown",
   "metadata": {},
   "source": [
    "Diagrama de caja de la tasa de desempleo general"
   ]
  },
  {
   "cell_type": "code",
   "execution_count": 15,
   "metadata": {},
   "outputs": [
    {
     "data": {
      "image/png": "[encoded data removed]",
      "text/plain": [
       "<Figure size 432x288 with 1 Axes>"
      ]
     },
     "metadata": {
      "needs_background": "light"
     },
     "output_type": "display_data"
    }
   ],
   "source": [
    "sns.boxplot(x = 'Tasa de desempleo', data = df)\n",
    "plt.show()"
   ]
  },
  {
   "cell_type": "code",
   "execution_count": 16,
   "metadata": {},
   "outputs": [
    {
     "name": "stdout",
     "output_type": "stream",
     "text": [
      "4.0\n",
      "7.2\n",
      "3.2\n",
      "-0.8000000000000007\n",
      "12.0\n"
     ]
    }
   ],
   "source": [
    "Q1 = df['Tasa de desempleo'].quantile(0.25)\n",
    "Q3 = df['Tasa de desempleo'].quantile(0.75)\n",
    "IQR = Q3 - Q1\n",
    "BI = Q1 - 1.5*IQR\n",
    "BS = Q3 + 1.5*IQR\n",
    "\n",
    "print(Q1)\n",
    "print(Q3)\n",
    "print(IQR)\n",
    "print(BI)\n",
    "print(BS)"
   ]
  },
  {
   "cell_type": "code",
   "execution_count": 17,
   "metadata": {},
   "outputs": [
    {
     "name": "stdout",
     "output_type": "stream",
     "text": [
      "Cantidad de registros totales: 6000\n",
      "Cantidad de outliers: 49\n"
     ]
    }
   ],
   "source": [
    "print('Cantidad de registros totales:', df.shape[0])\n",
    "print('Cantidad de outliers:', df[(df['Tasa de desempleo']<BI) | (df['Tasa de desempleo']>BS)].shape[0] )"
   ]
  },
  {
   "cell_type": "markdown",
   "metadata": {},
   "source": [
    "Estados en los que tienen tasas de desempleo como outliers"
   ]
  },
  {
   "cell_type": "code",
   "execution_count": 18,
   "metadata": {},
   "outputs": [],
   "source": [
    "outliers = df[(df['Tasa de desempleo']<BI) | (df['Tasa de desempleo']>BS)]"
   ]
  },
  {
   "cell_type": "code",
   "execution_count": 19,
   "metadata": {},
   "outputs": [
    {
     "data": {
      "text/plain": [
       "array(['California', 'Míchigan', 'Nevada'], dtype=object)"
      ]
     },
     "execution_count": 19,
     "metadata": {},
     "output_type": "execute_result"
    }
   ],
   "source": [
    "outliers.Estado.unique()"
   ]
  },
  {
   "cell_type": "markdown",
   "metadata": {},
   "source": [
    "No hay mucha variacion entre los meses. solo una pequeña diferencia a fin de y principio de año.<br>\n",
    "Otoño e invierno"
   ]
  },
  {
   "cell_type": "code",
   "execution_count": 20,
   "metadata": {},
   "outputs": [
    {
     "data": {
      "text/plain": [
       "<AxesSubplot:xlabel='Tasa de desempleo', ylabel='Mes'>"
      ]
     },
     "execution_count": 20,
     "metadata": {},
     "output_type": "execute_result"
    },
    {
     "data": {
      "image/png": "[encoded data removed]",
      "text/plain": [
       "<Figure size 432x288 with 1 Axes>"
      ]
     },
     "metadata": {},
     "output_type": "display_data"
    }
   ],
   "source": [
    "sns.set(style=\"whitegrid\")\n",
    "\n",
    "sns.boxplot(x ='Tasa de desempleo', y ='Mes', data = df )"
   ]
  },
  {
   "cell_type": "markdown",
   "metadata": {},
   "source": [
    "Diagrama de caja respecto a los años"
   ]
  },
  {
   "cell_type": "code",
   "execution_count": 21,
   "metadata": {},
   "outputs": [
    {
     "data": {
      "text/plain": [
       "<AxesSubplot:xlabel='Tasa de desempleo', ylabel='Año'>"
      ]
     },
     "execution_count": 21,
     "metadata": {},
     "output_type": "execute_result"
    },
    {
     "data": {
      "image/png": "[encoded data removed]",
      "text/plain": [
       "<Figure size 432x288 with 1 Axes>"
      ]
     },
     "metadata": {},
     "output_type": "display_data"
    }
   ],
   "source": [
    "sns.set(style=\"whitegrid\")\n",
    "\n",
    "sns.boxplot(x ='Tasa de desempleo', y='Año' , data = df )"
   ]
  },
  {
   "cell_type": "markdown",
   "metadata": {},
   "source": [
    "Veamos para 2011 ya que nos muestra outliers"
   ]
  },
  {
   "cell_type": "code",
   "execution_count": 22,
   "metadata": {},
   "outputs": [],
   "source": [
    "para2011 = df[df['Año'] == '2011']"
   ]
  },
  {
   "cell_type": "code",
   "execution_count": 23,
   "metadata": {},
   "outputs": [
    {
     "data": {
      "image/png": "[encoded data removed]",
      "text/plain": [
       "<Figure size 432x288 with 1 Axes>"
      ]
     },
     "metadata": {},
     "output_type": "display_data"
    }
   ],
   "source": [
    "sns.boxplot(x = 'Tasa de desempleo', data = para2011)\n",
    "plt.show()"
   ]
  },
  {
   "cell_type": "code",
   "execution_count": 24,
   "metadata": {},
   "outputs": [
    {
     "name": "stdout",
     "output_type": "stream",
     "text": [
      "6.8\n",
      "9.425\n",
      "2.625000000000001\n",
      "2.8624999999999985\n",
      "13.362500000000002\n"
     ]
    }
   ],
   "source": [
    "Q1 = para2011['Tasa de desempleo'].quantile(0.25)\n",
    "Q3 = para2011['Tasa de desempleo'].quantile(0.75)\n",
    "IQR = (Q3 - Q1 )\n",
    "BI = Q1 - 1.5*IQR\n",
    "BS = Q3 + 1.5*IQR\n",
    "\n",
    "print(Q1)\n",
    "print(Q3)\n",
    "print(IQR)\n",
    "print(BI)\n",
    "print(BS)"
   ]
  },
  {
   "cell_type": "code",
   "execution_count": 25,
   "metadata": {},
   "outputs": [],
   "source": [
    "p2011 =  para2011[(para2011['Tasa de desempleo']<BI) | (para2011['Tasa de desempleo']>BS)]"
   ]
  },
  {
   "cell_type": "code",
   "execution_count": 26,
   "metadata": {},
   "outputs": [
    {
     "data": {
      "text/html": [
       "<div>\n",
       "<style scoped>\n",
       "    .dataframe tbody tr th:only-of-type {\n",
       "        vertical-align: middle;\n",
       "    }\n",
       "\n",
       "    .dataframe tbody tr th {\n",
       "        vertical-align: top;\n",
       "    }\n",
       "\n",
       "    .dataframe thead th {\n",
       "        text-align: right;\n",
       "    }\n",
       "</style>\n",
       "<table border=\"1\" class=\"dataframe\">\n",
       "  <thead>\n",
       "    <tr style=\"text-align: right;\">\n",
       "      <th></th>\n",
       "      <th>Estado</th>\n",
       "      <th>Año</th>\n",
       "      <th>Mes</th>\n",
       "      <th>Tasa de desempleo</th>\n",
       "      <th>Fecha</th>\n",
       "    </tr>\n",
       "  </thead>\n",
       "  <tbody>\n",
       "    <tr>\n",
       "      <th>3856</th>\n",
       "      <td>Nevada</td>\n",
       "      <td>2011</td>\n",
       "      <td>08</td>\n",
       "      <td>13.4</td>\n",
       "      <td>2011-08</td>\n",
       "    </tr>\n",
       "    <tr>\n",
       "      <th>3857</th>\n",
       "      <td>Nevada</td>\n",
       "      <td>2011</td>\n",
       "      <td>07</td>\n",
       "      <td>13.4</td>\n",
       "      <td>2011-07</td>\n",
       "    </tr>\n",
       "    <tr>\n",
       "      <th>3858</th>\n",
       "      <td>Nevada</td>\n",
       "      <td>2011</td>\n",
       "      <td>06</td>\n",
       "      <td>13.5</td>\n",
       "      <td>2011-06</td>\n",
       "    </tr>\n",
       "    <tr>\n",
       "      <th>3859</th>\n",
       "      <td>Nevada</td>\n",
       "      <td>2011</td>\n",
       "      <td>05</td>\n",
       "      <td>13.4</td>\n",
       "      <td>2011-05</td>\n",
       "    </tr>\n",
       "    <tr>\n",
       "      <th>3860</th>\n",
       "      <td>Nevada</td>\n",
       "      <td>2011</td>\n",
       "      <td>04</td>\n",
       "      <td>13.5</td>\n",
       "      <td>2011-04</td>\n",
       "    </tr>\n",
       "    <tr>\n",
       "      <th>3861</th>\n",
       "      <td>Nevada</td>\n",
       "      <td>2011</td>\n",
       "      <td>03</td>\n",
       "      <td>13.5</td>\n",
       "      <td>2011-03</td>\n",
       "    </tr>\n",
       "    <tr>\n",
       "      <th>3862</th>\n",
       "      <td>Nevada</td>\n",
       "      <td>2011</td>\n",
       "      <td>02</td>\n",
       "      <td>13.6</td>\n",
       "      <td>2011-02</td>\n",
       "    </tr>\n",
       "    <tr>\n",
       "      <th>3863</th>\n",
       "      <td>Nevada</td>\n",
       "      <td>2011</td>\n",
       "      <td>01</td>\n",
       "      <td>13.7</td>\n",
       "      <td>2011-01</td>\n",
       "    </tr>\n",
       "  </tbody>\n",
       "</table>\n",
       "</div>"
      ],
      "text/plain": [
       "      Estado   Año Mes  Tasa de desempleo    Fecha\n",
       "3856  Nevada  2011  08               13.4  2011-08\n",
       "3857  Nevada  2011  07               13.4  2011-07\n",
       "3858  Nevada  2011  06               13.5  2011-06\n",
       "3859  Nevada  2011  05               13.4  2011-05\n",
       "3860  Nevada  2011  04               13.5  2011-04\n",
       "3861  Nevada  2011  03               13.5  2011-03\n",
       "3862  Nevada  2011  02               13.6  2011-02\n",
       "3863  Nevada  2011  01               13.7  2011-01"
      ]
     },
     "execution_count": 26,
     "metadata": {},
     "output_type": "execute_result"
    }
   ],
   "source": [
    "p2011"
   ]
  },
  {
   "cell_type": "markdown",
   "metadata": {},
   "source": [
    "Vemos el caso de 2019"
   ]
  },
  {
   "cell_type": "code",
   "execution_count": 27,
   "metadata": {},
   "outputs": [],
   "source": [
    "para2019 = df[df['Año'] == '2019']"
   ]
  },
  {
   "cell_type": "code",
   "execution_count": 28,
   "metadata": {},
   "outputs": [
    {
     "data": {
      "image/png": "[encoded data removed]",
      "text/plain": [
       "<Figure size 432x288 with 1 Axes>"
      ]
     },
     "metadata": {},
     "output_type": "display_data"
    }
   ],
   "source": [
    "sns.boxplot(x = 'Tasa de desempleo', data = para2019)\n",
    "plt.show()"
   ]
  },
  {
   "cell_type": "code",
   "execution_count": 29,
   "metadata": {},
   "outputs": [
    {
     "name": "stdout",
     "output_type": "stream",
     "text": [
      "3.0\n",
      "4.0\n",
      "1.0\n",
      "1.5\n",
      "5.5\n"
     ]
    }
   ],
   "source": [
    "Q1 = para2019['Tasa de desempleo'].quantile(0.25)\n",
    "Q3 = para2019['Tasa de desempleo'].quantile(0.75)\n",
    "IQR = (Q3 - Q1 )\n",
    "BI = Q1 - 1.5*IQR\n",
    "BS = Q3 + 1.5*IQR\n",
    "\n",
    "print(Q1)\n",
    "print(Q3)\n",
    "print(IQR)\n",
    "print(BI)\n",
    "print(BS)"
   ]
  },
  {
   "cell_type": "code",
   "execution_count": 30,
   "metadata": {},
   "outputs": [],
   "source": [
    "p2019 = para2019[(para2019['Tasa de desempleo']<BI) | (para2019['Tasa de desempleo']>BS)]"
   ]
  },
  {
   "cell_type": "code",
   "execution_count": 31,
   "metadata": {},
   "outputs": [
    {
     "data": {
      "text/html": [
       "<div>\n",
       "<style scoped>\n",
       "    .dataframe tbody tr th:only-of-type {\n",
       "        vertical-align: middle;\n",
       "    }\n",
       "\n",
       "    .dataframe tbody tr th {\n",
       "        vertical-align: top;\n",
       "    }\n",
       "\n",
       "    .dataframe thead th {\n",
       "        text-align: right;\n",
       "    }\n",
       "</style>\n",
       "<table border=\"1\" class=\"dataframe\">\n",
       "  <thead>\n",
       "    <tr style=\"text-align: right;\">\n",
       "      <th></th>\n",
       "      <th>Estado</th>\n",
       "      <th>Año</th>\n",
       "      <th>Mes</th>\n",
       "      <th>Tasa de desempleo</th>\n",
       "      <th>Fecha</th>\n",
       "    </tr>\n",
       "  </thead>\n",
       "  <tbody>\n",
       "    <tr>\n",
       "      <th>117</th>\n",
       "      <td>Alaska</td>\n",
       "      <td>2019</td>\n",
       "      <td>03</td>\n",
       "      <td>5.6</td>\n",
       "      <td>2019-03</td>\n",
       "    </tr>\n",
       "    <tr>\n",
       "      <th>118</th>\n",
       "      <td>Alaska</td>\n",
       "      <td>2019</td>\n",
       "      <td>02</td>\n",
       "      <td>5.7</td>\n",
       "      <td>2019-02</td>\n",
       "    </tr>\n",
       "    <tr>\n",
       "      <th>119</th>\n",
       "      <td>Alaska</td>\n",
       "      <td>2019</td>\n",
       "      <td>01</td>\n",
       "      <td>5.8</td>\n",
       "      <td>2019-01</td>\n",
       "    </tr>\n",
       "    <tr>\n",
       "      <th>2991</th>\n",
       "      <td>Misisipi</td>\n",
       "      <td>2019</td>\n",
       "      <td>09</td>\n",
       "      <td>5.6</td>\n",
       "      <td>2019-09</td>\n",
       "    </tr>\n",
       "    <tr>\n",
       "      <th>2992</th>\n",
       "      <td>Misisipi</td>\n",
       "      <td>2019</td>\n",
       "      <td>08</td>\n",
       "      <td>5.6</td>\n",
       "      <td>2019-08</td>\n",
       "    </tr>\n",
       "    <tr>\n",
       "      <th>2993</th>\n",
       "      <td>Misisipi</td>\n",
       "      <td>2019</td>\n",
       "      <td>07</td>\n",
       "      <td>5.6</td>\n",
       "      <td>2019-07</td>\n",
       "    </tr>\n",
       "  </tbody>\n",
       "</table>\n",
       "</div>"
      ],
      "text/plain": [
       "        Estado   Año Mes  Tasa de desempleo    Fecha\n",
       "117     Alaska  2019  03                5.6  2019-03\n",
       "118     Alaska  2019  02                5.7  2019-02\n",
       "119     Alaska  2019  01                5.8  2019-01\n",
       "2991  Misisipi  2019  09                5.6  2019-09\n",
       "2992  Misisipi  2019  08                5.6  2019-08\n",
       "2993  Misisipi  2019  07                5.6  2019-07"
      ]
     },
     "execution_count": 31,
     "metadata": {},
     "output_type": "execute_result"
    }
   ],
   "source": [
    "p2019"
   ]
  },
  {
   "cell_type": "markdown",
   "metadata": {},
   "source": [
    "Cada año el promedio de la tasa de desempleo de todos los estados se incrementa o disminuye.<br>\n",
    "Segun estudios la tasa natural de desempleo es de 4.45%.<br>\n",
    "En nuestro caso el promedio por año nos da: 5.7%<br>\n",
    "\n",
    "Finalmente de dicidimos clasificar como: <br>\n",
    "- Bueno : Por debajo del 4%\n",
    "- Normal : Entre el 4 y 6%\n",
    "- Critico : Arriba del 6%"
   ]
  },
  {
   "cell_type": "code",
   "execution_count": 32,
   "metadata": {},
   "outputs": [],
   "source": [
    "df['Clasificacion'] = np.nan"
   ]
  },
  {
   "cell_type": "code",
   "execution_count": 33,
   "metadata": {},
   "outputs": [],
   "source": [
    "df['Clasificacion'].fillna(df['Tasa de desempleo'].apply(lambda x:'Bueno' if 4 >= x else np.nan), inplace=True)\n",
    "df['Clasificacion'].fillna(df['Tasa de desempleo'].apply(lambda x:'Normal' if 4 < x < 6 else np.nan), inplace=True)\n",
    "df['Clasificacion'].fillna(df['Tasa de desempleo'].apply(lambda x:'Critico' if 6 <= x else np.nan), inplace=True)\n"
   ]
  },
  {
   "cell_type": "code",
   "execution_count": 34,
   "metadata": {},
   "outputs": [
    {
     "data": {
      "text/html": [
       "<div>\n",
       "<style scoped>\n",
       "    .dataframe tbody tr th:only-of-type {\n",
       "        vertical-align: middle;\n",
       "    }\n",
       "\n",
       "    .dataframe tbody tr th {\n",
       "        vertical-align: top;\n",
       "    }\n",
       "\n",
       "    .dataframe thead th {\n",
       "        text-align: right;\n",
       "    }\n",
       "</style>\n",
       "<table border=\"1\" class=\"dataframe\">\n",
       "  <thead>\n",
       "    <tr style=\"text-align: right;\">\n",
       "      <th></th>\n",
       "      <th>Estado</th>\n",
       "      <th>Año</th>\n",
       "      <th>Mes</th>\n",
       "      <th>Tasa de desempleo</th>\n",
       "      <th>Fecha</th>\n",
       "      <th>Clasificacion</th>\n",
       "    </tr>\n",
       "  </thead>\n",
       "  <tbody>\n",
       "    <tr>\n",
       "      <th>0</th>\n",
       "      <td>Alaska</td>\n",
       "      <td>2010</td>\n",
       "      <td>12</td>\n",
       "      <td>8.0</td>\n",
       "      <td>2010-12</td>\n",
       "      <td>Critico</td>\n",
       "    </tr>\n",
       "    <tr>\n",
       "      <th>1</th>\n",
       "      <td>Alaska</td>\n",
       "      <td>2010</td>\n",
       "      <td>11</td>\n",
       "      <td>8.1</td>\n",
       "      <td>2010-11</td>\n",
       "      <td>Critico</td>\n",
       "    </tr>\n",
       "    <tr>\n",
       "      <th>2</th>\n",
       "      <td>Alaska</td>\n",
       "      <td>2010</td>\n",
       "      <td>10</td>\n",
       "      <td>8.0</td>\n",
       "      <td>2010-10</td>\n",
       "      <td>Critico</td>\n",
       "    </tr>\n",
       "    <tr>\n",
       "      <th>3</th>\n",
       "      <td>Alaska</td>\n",
       "      <td>2010</td>\n",
       "      <td>09</td>\n",
       "      <td>8.0</td>\n",
       "      <td>2010-09</td>\n",
       "      <td>Critico</td>\n",
       "    </tr>\n",
       "    <tr>\n",
       "      <th>4</th>\n",
       "      <td>Alaska</td>\n",
       "      <td>2010</td>\n",
       "      <td>08</td>\n",
       "      <td>7.9</td>\n",
       "      <td>2010-08</td>\n",
       "      <td>Critico</td>\n",
       "    </tr>\n",
       "    <tr>\n",
       "      <th>...</th>\n",
       "      <td>...</td>\n",
       "      <td>...</td>\n",
       "      <td>...</td>\n",
       "      <td>...</td>\n",
       "      <td>...</td>\n",
       "      <td>...</td>\n",
       "    </tr>\n",
       "    <tr>\n",
       "      <th>5995</th>\n",
       "      <td>Wyoming</td>\n",
       "      <td>2019</td>\n",
       "      <td>05</td>\n",
       "      <td>3.4</td>\n",
       "      <td>2019-05</td>\n",
       "      <td>Bueno</td>\n",
       "    </tr>\n",
       "    <tr>\n",
       "      <th>5996</th>\n",
       "      <td>Wyoming</td>\n",
       "      <td>2019</td>\n",
       "      <td>04</td>\n",
       "      <td>3.3</td>\n",
       "      <td>2019-04</td>\n",
       "      <td>Bueno</td>\n",
       "    </tr>\n",
       "    <tr>\n",
       "      <th>5997</th>\n",
       "      <td>Wyoming</td>\n",
       "      <td>2019</td>\n",
       "      <td>03</td>\n",
       "      <td>3.4</td>\n",
       "      <td>2019-03</td>\n",
       "      <td>Bueno</td>\n",
       "    </tr>\n",
       "    <tr>\n",
       "      <th>5998</th>\n",
       "      <td>Wyoming</td>\n",
       "      <td>2019</td>\n",
       "      <td>02</td>\n",
       "      <td>3.5</td>\n",
       "      <td>2019-02</td>\n",
       "      <td>Bueno</td>\n",
       "    </tr>\n",
       "    <tr>\n",
       "      <th>5999</th>\n",
       "      <td>Wyoming</td>\n",
       "      <td>2019</td>\n",
       "      <td>01</td>\n",
       "      <td>3.7</td>\n",
       "      <td>2019-01</td>\n",
       "      <td>Bueno</td>\n",
       "    </tr>\n",
       "  </tbody>\n",
       "</table>\n",
       "<p>6000 rows × 6 columns</p>\n",
       "</div>"
      ],
      "text/plain": [
       "       Estado   Año Mes  Tasa de desempleo    Fecha Clasificacion\n",
       "0      Alaska  2010  12                8.0  2010-12       Critico\n",
       "1      Alaska  2010  11                8.1  2010-11       Critico\n",
       "2      Alaska  2010  10                8.0  2010-10       Critico\n",
       "3      Alaska  2010  09                8.0  2010-09       Critico\n",
       "4      Alaska  2010  08                7.9  2010-08       Critico\n",
       "...       ...   ...  ..                ...      ...           ...\n",
       "5995  Wyoming  2019  05                3.4  2019-05         Bueno\n",
       "5996  Wyoming  2019  04                3.3  2019-04         Bueno\n",
       "5997  Wyoming  2019  03                3.4  2019-03         Bueno\n",
       "5998  Wyoming  2019  02                3.5  2019-02         Bueno\n",
       "5999  Wyoming  2019  01                3.7  2019-01         Bueno\n",
       "\n",
       "[6000 rows x 6 columns]"
      ]
     },
     "execution_count": 34,
     "metadata": {},
     "output_type": "execute_result"
    }
   ],
   "source": [
    "df"
   ]
  },
  {
   "cell_type": "code",
   "execution_count": 35,
   "metadata": {},
   "outputs": [
    {
     "name": "stdout",
     "output_type": "stream",
     "text": [
      "(1616, 6)\n"
     ]
    },
    {
     "data": {
      "text/plain": [
       "Dakota-del-norte    120\n",
       "Nebraska             95\n",
       "Dakota-del-sur       88\n",
       "Utah                 75\n",
       "Vermont              71\n",
       "Idaho                67\n",
       "Minnesota            64\n",
       "Hawái                63\n",
       "Nuevo-hampshire      62\n",
       "Iowa                 62\n",
       "Name: Estado, dtype: int64"
      ]
     },
     "execution_count": 35,
     "metadata": {},
     "output_type": "execute_result"
    }
   ],
   "source": [
    "bueno = df[df['Clasificacion'] == 'Bueno']\n",
    "print(bueno.shape)\n",
    "bueno.Estado.value_counts().head(10)"
   ]
  },
  {
   "cell_type": "code",
   "execution_count": 36,
   "metadata": {},
   "outputs": [
    {
     "data": {
      "text/plain": [
       "12    153\n",
       "11    146\n",
       "06    141\n",
       "10    138\n",
       "07    138\n",
       "Name: Mes, dtype: int64"
      ]
     },
     "execution_count": 36,
     "metadata": {},
     "output_type": "execute_result"
    }
   ],
   "source": [
    "bueno.Mes.value_counts().head(5)"
   ]
  },
  {
   "cell_type": "code",
   "execution_count": 37,
   "metadata": {},
   "outputs": [
    {
     "name": "stdout",
     "output_type": "stream",
     "text": [
      "(1923, 6)\n"
     ]
    },
    {
     "data": {
      "text/plain": [
       "Wyoming            78\n",
       "Oklahoma           73\n",
       "Montana            69\n",
       "Pensilvania        66\n",
       "Washington         65\n",
       "Ohio               65\n",
       "Kentucky           61\n",
       "Míchigan           54\n",
       "Nuevo-hampshire    52\n",
       "Arizona            51\n",
       "Name: Estado, dtype: int64"
      ]
     },
     "execution_count": 37,
     "metadata": {},
     "output_type": "execute_result"
    }
   ],
   "source": [
    "normal = df[df['Clasificacion'] == 'Normal']\n",
    "print(normal.shape)\n",
    "normal.Estado.value_counts().head(10)"
   ]
  },
  {
   "cell_type": "code",
   "execution_count": 38,
   "metadata": {},
   "outputs": [
    {
     "data": {
      "text/plain": [
       "10    171\n",
       "09    169\n",
       "08    166\n",
       "11    164\n",
       "12    162\n",
       "Name: Mes, dtype: int64"
      ]
     },
     "execution_count": 38,
     "metadata": {},
     "output_type": "execute_result"
    }
   ],
   "source": [
    "normal.Mes.value_counts().head(5)"
   ]
  },
  {
   "cell_type": "code",
   "execution_count": 39,
   "metadata": {},
   "outputs": [
    {
     "name": "stdout",
     "output_type": "stream",
     "text": [
      "(2461, 6)\n"
     ]
    },
    {
     "data": {
      "text/plain": [
       "Alaska                 100\n",
       "Nuevo-méxico            91\n",
       "Virginia-occidental     81\n",
       "Misisipi                77\n",
       "Luisiana                77\n",
       "Nevada                  76\n",
       "Alabama                 75\n",
       "Illinois                73\n",
       "Arizona                 69\n",
       "California              68\n",
       "Name: Estado, dtype: int64"
      ]
     },
     "execution_count": 39,
     "metadata": {},
     "output_type": "execute_result"
    }
   ],
   "source": [
    "critico = df[df['Clasificacion'] == 'Critico']\n",
    "print(critico.shape)\n",
    "critico.Estado.value_counts().head(10)"
   ]
  },
  {
   "cell_type": "code",
   "execution_count": 40,
   "metadata": {},
   "outputs": [
    {
     "data": {
      "text/plain": [
       "Critico    2461\n",
       "Normal     1923\n",
       "Bueno      1616\n",
       "Name: Clasificacion, dtype: int64"
      ]
     },
     "execution_count": 40,
     "metadata": {},
     "output_type": "execute_result"
    }
   ],
   "source": [
    "df.Clasificacion.value_counts()"
   ]
  },
  {
   "cell_type": "code",
   "execution_count": 41,
   "metadata": {},
   "outputs": [
    {
     "name": "stdout",
     "output_type": "stream",
     "text": [
      "<class 'pandas.core.frame.DataFrame'>\n",
      "RangeIndex: 6000 entries, 0 to 5999\n",
      "Data columns (total 6 columns):\n",
      " #   Column             Non-Null Count  Dtype  \n",
      "---  ------             --------------  -----  \n",
      " 0   Estado             6000 non-null   object \n",
      " 1   Año                6000 non-null   object \n",
      " 2   Mes                6000 non-null   object \n",
      " 3   Tasa de desempleo  6000 non-null   float64\n",
      " 4   Fecha              6000 non-null   object \n",
      " 5   Clasificacion      6000 non-null   object \n",
      "dtypes: float64(1), object(5)\n",
      "memory usage: 281.4+ KB\n"
     ]
    }
   ],
   "source": [
    "df.info()"
   ]
  },
  {
   "cell_type": "code",
   "execution_count": 42,
   "metadata": {},
   "outputs": [
    {
     "data": {
      "text/html": [
       "<div>\n",
       "<style scoped>\n",
       "    .dataframe tbody tr th:only-of-type {\n",
       "        vertical-align: middle;\n",
       "    }\n",
       "\n",
       "    .dataframe tbody tr th {\n",
       "        vertical-align: top;\n",
       "    }\n",
       "\n",
       "    .dataframe thead th {\n",
       "        text-align: right;\n",
       "    }\n",
       "</style>\n",
       "<table border=\"1\" class=\"dataframe\">\n",
       "  <thead>\n",
       "    <tr style=\"text-align: right;\">\n",
       "      <th></th>\n",
       "      <th>Estado</th>\n",
       "      <th>Año</th>\n",
       "      <th>Mes</th>\n",
       "      <th>Tasa de desempleo</th>\n",
       "      <th>Fecha</th>\n",
       "      <th>Clasificacion</th>\n",
       "    </tr>\n",
       "  </thead>\n",
       "  <tbody>\n",
       "    <tr>\n",
       "      <th>0</th>\n",
       "      <td>Alaska</td>\n",
       "      <td>2010</td>\n",
       "      <td>12</td>\n",
       "      <td>8.0</td>\n",
       "      <td>2010-12</td>\n",
       "      <td>Critico</td>\n",
       "    </tr>\n",
       "    <tr>\n",
       "      <th>1</th>\n",
       "      <td>Alaska</td>\n",
       "      <td>2010</td>\n",
       "      <td>11</td>\n",
       "      <td>8.1</td>\n",
       "      <td>2010-11</td>\n",
       "      <td>Critico</td>\n",
       "    </tr>\n",
       "    <tr>\n",
       "      <th>2</th>\n",
       "      <td>Alaska</td>\n",
       "      <td>2010</td>\n",
       "      <td>10</td>\n",
       "      <td>8.0</td>\n",
       "      <td>2010-10</td>\n",
       "      <td>Critico</td>\n",
       "    </tr>\n",
       "    <tr>\n",
       "      <th>3</th>\n",
       "      <td>Alaska</td>\n",
       "      <td>2010</td>\n",
       "      <td>09</td>\n",
       "      <td>8.0</td>\n",
       "      <td>2010-09</td>\n",
       "      <td>Critico</td>\n",
       "    </tr>\n",
       "    <tr>\n",
       "      <th>4</th>\n",
       "      <td>Alaska</td>\n",
       "      <td>2010</td>\n",
       "      <td>08</td>\n",
       "      <td>7.9</td>\n",
       "      <td>2010-08</td>\n",
       "      <td>Critico</td>\n",
       "    </tr>\n",
       "    <tr>\n",
       "      <th>...</th>\n",
       "      <td>...</td>\n",
       "      <td>...</td>\n",
       "      <td>...</td>\n",
       "      <td>...</td>\n",
       "      <td>...</td>\n",
       "      <td>...</td>\n",
       "    </tr>\n",
       "    <tr>\n",
       "      <th>5995</th>\n",
       "      <td>Wyoming</td>\n",
       "      <td>2019</td>\n",
       "      <td>05</td>\n",
       "      <td>3.4</td>\n",
       "      <td>2019-05</td>\n",
       "      <td>Bueno</td>\n",
       "    </tr>\n",
       "    <tr>\n",
       "      <th>5996</th>\n",
       "      <td>Wyoming</td>\n",
       "      <td>2019</td>\n",
       "      <td>04</td>\n",
       "      <td>3.3</td>\n",
       "      <td>2019-04</td>\n",
       "      <td>Bueno</td>\n",
       "    </tr>\n",
       "    <tr>\n",
       "      <th>5997</th>\n",
       "      <td>Wyoming</td>\n",
       "      <td>2019</td>\n",
       "      <td>03</td>\n",
       "      <td>3.4</td>\n",
       "      <td>2019-03</td>\n",
       "      <td>Bueno</td>\n",
       "    </tr>\n",
       "    <tr>\n",
       "      <th>5998</th>\n",
       "      <td>Wyoming</td>\n",
       "      <td>2019</td>\n",
       "      <td>02</td>\n",
       "      <td>3.5</td>\n",
       "      <td>2019-02</td>\n",
       "      <td>Bueno</td>\n",
       "    </tr>\n",
       "    <tr>\n",
       "      <th>5999</th>\n",
       "      <td>Wyoming</td>\n",
       "      <td>2019</td>\n",
       "      <td>01</td>\n",
       "      <td>3.7</td>\n",
       "      <td>2019-01</td>\n",
       "      <td>Bueno</td>\n",
       "    </tr>\n",
       "  </tbody>\n",
       "</table>\n",
       "<p>6000 rows × 6 columns</p>\n",
       "</div>"
      ],
      "text/plain": [
       "       Estado   Año Mes  Tasa de desempleo    Fecha Clasificacion\n",
       "0      Alaska  2010  12                8.0  2010-12       Critico\n",
       "1      Alaska  2010  11                8.1  2010-11       Critico\n",
       "2      Alaska  2010  10                8.0  2010-10       Critico\n",
       "3      Alaska  2010  09                8.0  2010-09       Critico\n",
       "4      Alaska  2010  08                7.9  2010-08       Critico\n",
       "...       ...   ...  ..                ...      ...           ...\n",
       "5995  Wyoming  2019  05                3.4  2019-05         Bueno\n",
       "5996  Wyoming  2019  04                3.3  2019-04         Bueno\n",
       "5997  Wyoming  2019  03                3.4  2019-03         Bueno\n",
       "5998  Wyoming  2019  02                3.5  2019-02         Bueno\n",
       "5999  Wyoming  2019  01                3.7  2019-01         Bueno\n",
       "\n",
       "[6000 rows x 6 columns]"
      ]
     },
     "execution_count": 42,
     "metadata": {},
     "output_type": "execute_result"
    }
   ],
   "source": [
    "df"
   ]
  },
  {
   "cell_type": "code",
   "execution_count": 43,
   "metadata": {},
   "outputs": [],
   "source": [
    "df.to_csv('Calificacion_Desempleo.csv', index=False)"
   ]
  }
 ],
 "metadata": {
  "kernelspec": {
   "display_name": "Python 3.10.8 64-bit",
   "language": "python",
   "name": "python3"
  },
  "language_info": {
   "codemirror_mode": {
    "name": "ipython",
    "version": 3
   },
   "file_extension": ".py",
   "mimetype": "text/x-python",
   "name": "python",
   "nbconvert_exporter": "python",
   "pygments_lexer": "ipython3",
   "version": "3.10.8"
  },
  "orig_nbformat": 4,
  "vscode": {
   "interpreter": {
    "hash": "8c3d4d9970fc5c09c50d9318a9c7fbf4d0159e4b28833276f5678ee22bded273"
   }
  }
 },
 "nbformat": 4,
 "nbformat_minor": 2
}
