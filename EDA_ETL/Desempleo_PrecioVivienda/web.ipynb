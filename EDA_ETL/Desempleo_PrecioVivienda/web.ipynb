{
 "cells": [
  {
   "cell_type": "code",
   "execution_count": 2,
   "metadata": {},
   "outputs": [],
   "source": [
    "import requests\n",
    "from bs4 import BeautifulSoup\n",
    "import pandas as pd\n",
    "import numpy as np"
   ]
  },
  {
   "cell_type": "markdown",
   "metadata": {},
   "source": [
    "Lista de los 50 estados de EEUU"
   ]
  },
  {
   "cell_type": "code",
   "execution_count": 3,
   "metadata": {},
   "outputs": [],
   "source": [
    "url = 'https://datosmacro.expansion.com/paro/usa-estados'"
   ]
  },
  {
   "cell_type": "markdown",
   "metadata": {},
   "source": [
    "Scrapeamos la tabla"
   ]
  },
  {
   "cell_type": "code",
   "execution_count": 4,
   "metadata": {},
   "outputs": [],
   "source": [
    "r1 = requests.get(url)\n",
    "soup = BeautifulSoup(r1.content, 'html.parser')\n",
    "rows = soup.find('table', attrs={'id':'tb1'}).find('tbody').find_all('tr')"
   ]
  },
  {
   "cell_type": "markdown",
   "metadata": {},
   "source": [
    "Solo queremos la columna de estados,la primera columna"
   ]
  },
  {
   "cell_type": "code",
   "execution_count": 5,
   "metadata": {},
   "outputs": [],
   "source": [
    "lista_estados = list()\n",
    "for r in rows:\n",
    "        lista_estados.append(r.find_all('td')[0].get_text())"
   ]
  },
  {
   "cell_type": "markdown",
   "metadata": {},
   "source": [
    "Para el url necesitamos el nombre del estado sin mayuscula.<br>\n",
    "Pasamos todo a minuscula"
   ]
  },
  {
   "cell_type": "code",
   "execution_count": 6,
   "metadata": {},
   "outputs": [],
   "source": [
    "l_estados =  list(map(lambda x: x.lower(), lista_estados))"
   ]
  },
  {
   "cell_type": "markdown",
   "metadata": {},
   "source": [
    "Cada valor de la columna tiene al final del nombre del estado ' [+]'<br>\n",
    "Se lo quitamos"
   ]
  },
  {
   "cell_type": "code",
   "execution_count": 7,
   "metadata": {},
   "outputs": [],
   "source": [
    "lista = list()\n",
    "for i in l_estados:\n",
    "    i = i.replace(' [+]', '')\n",
    "    i = i.replace(' ', '-')\n",
    "    lista.append(i)\n"
   ]
  },
  {
   "cell_type": "code",
   "execution_count": 8,
   "metadata": {},
   "outputs": [
    {
     "data": {
      "text/plain": [
       "['alaska',\n",
       " 'alabama',\n",
       " 'arkansas',\n",
       " 'arizona',\n",
       " 'california',\n",
       " 'colorado',\n",
       " 'connecticut',\n",
       " 'delaware',\n",
       " 'florida',\n",
       " 'georgia',\n",
       " 'hawái',\n",
       " 'iowa',\n",
       " 'idaho',\n",
       " 'illinois',\n",
       " 'indiana',\n",
       " 'kansas',\n",
       " 'kentucky',\n",
       " 'luisiana',\n",
       " 'massachusetts',\n",
       " 'maryland',\n",
       " 'maine',\n",
       " 'míchigan',\n",
       " 'minnesota',\n",
       " 'misuri',\n",
       " 'misisipi',\n",
       " 'montana',\n",
       " 'carolina-del-norte',\n",
       " 'dakota-del-norte',\n",
       " 'nebraska',\n",
       " 'nuevo-hampshire',\n",
       " 'nueva-jersey',\n",
       " 'nuevo-méxico',\n",
       " 'nevada',\n",
       " 'nueva-york',\n",
       " 'ohio',\n",
       " 'oklahoma',\n",
       " 'oregón',\n",
       " 'pensilvania',\n",
       " 'rhode-island',\n",
       " 'carolina-del-sur',\n",
       " 'dakota-del-sur',\n",
       " 'tennessee',\n",
       " 'texas',\n",
       " 'utah',\n",
       " 'virginia',\n",
       " 'vermont',\n",
       " 'washington',\n",
       " 'wisconsin',\n",
       " 'virginia-occidental',\n",
       " 'wyoming']"
      ]
     },
     "execution_count": 8,
     "metadata": {},
     "output_type": "execute_result"
    }
   ],
   "source": [
    "lista"
   ]
  },
  {
   "cell_type": "markdown",
   "metadata": {},
   "source": [
    "Armamos una lista con el intervalo de años a usar"
   ]
  },
  {
   "cell_type": "code",
   "execution_count": 9,
   "metadata": {},
   "outputs": [],
   "source": [
    "años = ['2010', '2011','2012', '2013', '2014', '2015', '2016', '2017','2018','2019']"
   ]
  },
  {
   "cell_type": "code",
   "execution_count": 10,
   "metadata": {},
   "outputs": [],
   "source": [
    "def CargaWeb(url):\n",
    "    fecha = list()\n",
    "    activos = list()\n",
    "    tasa_desempleo = list()\n",
    "    empleados = list()\n",
    "    desempleados = list()\n",
    "\n",
    "    for año in años:\n",
    "        r = requests.get(url + año) \n",
    "        soup = BeautifulSoup(r.content, 'html.parser')\n",
    "        rows = soup.find('table', attrs={'id':'tb0'}).find('tbody').find_all('tr')\n",
    "                    \n",
    "        for row in rows:\n",
    "            fecha.append(row.find_all('td')[0].get_text())\n",
    "            activos.append(row.find_all('td')[1].get_text())\n",
    "            tasa_desempleo.append(row.find_all('td')[2].get_text())\n",
    "            empleados.append(row.find_all('td')[3].get_text())\n",
    "            desempleados.append(row.find_all('td')[4].get_text())\n",
    "\n",
    "    df_estado = pd.DataFrame({'Fecha': fecha, 'Activos': activos, \n",
    "                            'Tasa de desempleo': tasa_desempleo,\n",
    "                            'Empleados': empleados,\n",
    "                            'Desempleados': desempleados,\n",
    "                            'Estado': np.nan})\n",
    "    return df_estado\n"
   ]
  },
  {
   "cell_type": "markdown",
   "metadata": {},
   "source": [
    "El url para todos los estados segun el año es:<br>\n",
    "'https://datosmacro.expansion.com/paro/usa-estados/**estado**?anio=**año**' <br>\n",
    "Lo que varia en el url es el estado y el año"
   ]
  },
  {
   "cell_type": "code",
   "execution_count": 11,
   "metadata": {},
   "outputs": [],
   "source": [
    "url_parte1 = 'https://datosmacro.expansion.com/paro/usa-estados/'\n",
    "url_parte2 = '?anio='"
   ]
  },
  {
   "cell_type": "markdown",
   "metadata": {},
   "source": [
    "Creamos el DataFrame final junto con todos los estados"
   ]
  },
  {
   "cell_type": "code",
   "execution_count": 12,
   "metadata": {},
   "outputs": [],
   "source": [
    "df = pd.DataFrame(columns=('Fecha','Activos','Tasa de desempleo','Empleados','Desempleados','Estado'))"
   ]
  },
  {
   "cell_type": "code",
   "execution_count": 13,
   "metadata": {},
   "outputs": [],
   "source": [
    "for i,e in enumerate(lista):\n",
    "    state = CargaWeb(url_parte1 + e + url_parte2)\n",
    "    state['Estado'] = e.capitalize()\n",
    "    df = pd.concat([df, state])"
   ]
  },
  {
   "cell_type": "code",
   "execution_count": 14,
   "metadata": {},
   "outputs": [
    {
     "data": {
      "text/html": [
       "<div>\n",
       "<style scoped>\n",
       "    .dataframe tbody tr th:only-of-type {\n",
       "        vertical-align: middle;\n",
       "    }\n",
       "\n",
       "    .dataframe tbody tr th {\n",
       "        vertical-align: top;\n",
       "    }\n",
       "\n",
       "    .dataframe thead th {\n",
       "        text-align: right;\n",
       "    }\n",
       "</style>\n",
       "<table border=\"1\" class=\"dataframe\">\n",
       "  <thead>\n",
       "    <tr style=\"text-align: right;\">\n",
       "      <th></th>\n",
       "      <th>Fecha</th>\n",
       "      <th>Activos</th>\n",
       "      <th>Tasa de desempleo</th>\n",
       "      <th>Empleados</th>\n",
       "      <th>Desempleados</th>\n",
       "      <th>Estado</th>\n",
       "    </tr>\n",
       "  </thead>\n",
       "  <tbody>\n",
       "    <tr>\n",
       "      <th>0</th>\n",
       "      <td>Diciembre 2010</td>\n",
       "      <td>363,1</td>\n",
       "      <td>8,0%</td>\n",
       "      <td>333,9</td>\n",
       "      <td>29,20</td>\n",
       "      <td>Alaska</td>\n",
       "    </tr>\n",
       "    <tr>\n",
       "      <th>1</th>\n",
       "      <td>Noviembre 2010</td>\n",
       "      <td>362,8</td>\n",
       "      <td>8,1%</td>\n",
       "      <td>333,5</td>\n",
       "      <td>29,22</td>\n",
       "      <td>Alaska</td>\n",
       "    </tr>\n",
       "    <tr>\n",
       "      <th>2</th>\n",
       "      <td>Octubre 2010</td>\n",
       "      <td>362,2</td>\n",
       "      <td>8,0%</td>\n",
       "      <td>333,2</td>\n",
       "      <td>29,07</td>\n",
       "      <td>Alaska</td>\n",
       "    </tr>\n",
       "    <tr>\n",
       "      <th>3</th>\n",
       "      <td>Septiembre 2010</td>\n",
       "      <td>361,7</td>\n",
       "      <td>8,0%</td>\n",
       "      <td>332,8</td>\n",
       "      <td>28,84</td>\n",
       "      <td>Alaska</td>\n",
       "    </tr>\n",
       "    <tr>\n",
       "      <th>4</th>\n",
       "      <td>Agosto 2010</td>\n",
       "      <td>361,3</td>\n",
       "      <td>7,9%</td>\n",
       "      <td>332,7</td>\n",
       "      <td>28,66</td>\n",
       "      <td>Alaska</td>\n",
       "    </tr>\n",
       "    <tr>\n",
       "      <th>...</th>\n",
       "      <td>...</td>\n",
       "      <td>...</td>\n",
       "      <td>...</td>\n",
       "      <td>...</td>\n",
       "      <td>...</td>\n",
       "      <td>...</td>\n",
       "    </tr>\n",
       "    <tr>\n",
       "      <th>115</th>\n",
       "      <td>Mayo 2019</td>\n",
       "      <td>293,4</td>\n",
       "      <td>3,4%</td>\n",
       "      <td>283,5</td>\n",
       "      <td>9,97</td>\n",
       "      <td>Wyoming</td>\n",
       "    </tr>\n",
       "    <tr>\n",
       "      <th>116</th>\n",
       "      <td>Abril 2019</td>\n",
       "      <td>292,9</td>\n",
       "      <td>3,3%</td>\n",
       "      <td>283,1</td>\n",
       "      <td>9,80</td>\n",
       "      <td>Wyoming</td>\n",
       "    </tr>\n",
       "    <tr>\n",
       "      <th>117</th>\n",
       "      <td>Marzo 2019</td>\n",
       "      <td>292,7</td>\n",
       "      <td>3,4%</td>\n",
       "      <td>282,8</td>\n",
       "      <td>9,92</td>\n",
       "      <td>Wyoming</td>\n",
       "    </tr>\n",
       "    <tr>\n",
       "      <th>118</th>\n",
       "      <td>Febrero 2019</td>\n",
       "      <td>292,7</td>\n",
       "      <td>3,5%</td>\n",
       "      <td>282,4</td>\n",
       "      <td>10,29</td>\n",
       "      <td>Wyoming</td>\n",
       "    </tr>\n",
       "    <tr>\n",
       "      <th>119</th>\n",
       "      <td>Enero 2019</td>\n",
       "      <td>292,8</td>\n",
       "      <td>3,7%</td>\n",
       "      <td>281,9</td>\n",
       "      <td>10,84</td>\n",
       "      <td>Wyoming</td>\n",
       "    </tr>\n",
       "  </tbody>\n",
       "</table>\n",
       "<p>6000 rows × 6 columns</p>\n",
       "</div>"
      ],
      "text/plain": [
       "               Fecha Activos Tasa de desempleo Empleados Desempleados   Estado\n",
       "0     Diciembre 2010   363,1              8,0%     333,9        29,20   Alaska\n",
       "1     Noviembre 2010   362,8              8,1%     333,5        29,22   Alaska\n",
       "2       Octubre 2010   362,2              8,0%     333,2        29,07   Alaska\n",
       "3    Septiembre 2010   361,7              8,0%     332,8        28,84   Alaska\n",
       "4        Agosto 2010   361,3              7,9%     332,7        28,66   Alaska\n",
       "..               ...     ...               ...       ...          ...      ...\n",
       "115        Mayo 2019   293,4              3,4%     283,5         9,97  Wyoming\n",
       "116       Abril 2019   292,9              3,3%     283,1         9,80  Wyoming\n",
       "117       Marzo 2019   292,7              3,4%     282,8         9,92  Wyoming\n",
       "118     Febrero 2019   292,7              3,5%     282,4        10,29  Wyoming\n",
       "119       Enero 2019   292,8              3,7%     281,9        10,84  Wyoming\n",
       "\n",
       "[6000 rows x 6 columns]"
      ]
     },
     "execution_count": 14,
     "metadata": {},
     "output_type": "execute_result"
    }
   ],
   "source": [
    "df"
   ]
  },
  {
   "cell_type": "markdown",
   "metadata": {},
   "source": [
    "Nos quedamos solo con las columnas que necesitamos"
   ]
  },
  {
   "cell_type": "code",
   "execution_count": 15,
   "metadata": {},
   "outputs": [],
   "source": [
    "df = df.drop(['Activos', 'Empleados','Desempleados'], axis=1)"
   ]
  },
  {
   "cell_type": "markdown",
   "metadata": {},
   "source": [
    "Quitamos el % y cambiamos coma por punto"
   ]
  },
  {
   "cell_type": "code",
   "execution_count": 16,
   "metadata": {},
   "outputs": [],
   "source": [
    "df['Tasa de desempleo'] = df['Tasa de desempleo'].str.replace('%','')"
   ]
  },
  {
   "cell_type": "code",
   "execution_count": 17,
   "metadata": {},
   "outputs": [],
   "source": [
    "df['Tasa de desempleo'] = df['Tasa de desempleo'].str.replace(',', '.')"
   ]
  },
  {
   "cell_type": "markdown",
   "metadata": {},
   "source": [
    "Dividimos el mes y el año"
   ]
  },
  {
   "cell_type": "code",
   "execution_count": 18,
   "metadata": {},
   "outputs": [],
   "source": [
    "df[['Mes','Año']]=df.Fecha.str.split(' ',expand=True)"
   ]
  },
  {
   "cell_type": "markdown",
   "metadata": {},
   "source": [
    "Quitamos la columna fecha"
   ]
  },
  {
   "cell_type": "code",
   "execution_count": 19,
   "metadata": {},
   "outputs": [],
   "source": [
    "df = df.drop(['Fecha'], axis=1)"
   ]
  },
  {
   "cell_type": "code",
   "execution_count": 20,
   "metadata": {},
   "outputs": [
    {
     "data": {
      "text/html": [
       "<div>\n",
       "<style scoped>\n",
       "    .dataframe tbody tr th:only-of-type {\n",
       "        vertical-align: middle;\n",
       "    }\n",
       "\n",
       "    .dataframe tbody tr th {\n",
       "        vertical-align: top;\n",
       "    }\n",
       "\n",
       "    .dataframe thead th {\n",
       "        text-align: right;\n",
       "    }\n",
       "</style>\n",
       "<table border=\"1\" class=\"dataframe\">\n",
       "  <thead>\n",
       "    <tr style=\"text-align: right;\">\n",
       "      <th></th>\n",
       "      <th>Tasa de desempleo</th>\n",
       "      <th>Estado</th>\n",
       "      <th>Mes</th>\n",
       "      <th>Año</th>\n",
       "    </tr>\n",
       "  </thead>\n",
       "  <tbody>\n",
       "    <tr>\n",
       "      <th>0</th>\n",
       "      <td>8.0</td>\n",
       "      <td>Alaska</td>\n",
       "      <td>Diciembre</td>\n",
       "      <td>2010</td>\n",
       "    </tr>\n",
       "    <tr>\n",
       "      <th>1</th>\n",
       "      <td>8.1</td>\n",
       "      <td>Alaska</td>\n",
       "      <td>Noviembre</td>\n",
       "      <td>2010</td>\n",
       "    </tr>\n",
       "    <tr>\n",
       "      <th>2</th>\n",
       "      <td>8.0</td>\n",
       "      <td>Alaska</td>\n",
       "      <td>Octubre</td>\n",
       "      <td>2010</td>\n",
       "    </tr>\n",
       "    <tr>\n",
       "      <th>3</th>\n",
       "      <td>8.0</td>\n",
       "      <td>Alaska</td>\n",
       "      <td>Septiembre</td>\n",
       "      <td>2010</td>\n",
       "    </tr>\n",
       "    <tr>\n",
       "      <th>4</th>\n",
       "      <td>7.9</td>\n",
       "      <td>Alaska</td>\n",
       "      <td>Agosto</td>\n",
       "      <td>2010</td>\n",
       "    </tr>\n",
       "  </tbody>\n",
       "</table>\n",
       "</div>"
      ],
      "text/plain": [
       "  Tasa de desempleo  Estado         Mes   Año\n",
       "0               8.0  Alaska   Diciembre  2010\n",
       "1               8.1  Alaska   Noviembre  2010\n",
       "2               8.0  Alaska     Octubre  2010\n",
       "3               8.0  Alaska  Septiembre  2010\n",
       "4               7.9  Alaska      Agosto  2010"
      ]
     },
     "execution_count": 20,
     "metadata": {},
     "output_type": "execute_result"
    }
   ],
   "source": [
    "df.head()"
   ]
  },
  {
   "cell_type": "code",
   "execution_count": 21,
   "metadata": {},
   "outputs": [],
   "source": [
    "df = df.astype({'Tasa de desempleo': 'float64', 'Año': 'int32'})"
   ]
  },
  {
   "cell_type": "markdown",
   "metadata": {},
   "source": [
    "Reordenamos columnas"
   ]
  },
  {
   "cell_type": "code",
   "execution_count": 22,
   "metadata": {},
   "outputs": [],
   "source": [
    "df = df.reindex(columns=['Estado','Año','Mes','Tasa de desempleo'])"
   ]
  },
  {
   "cell_type": "code",
   "execution_count": 23,
   "metadata": {},
   "outputs": [
    {
     "data": {
      "text/html": [
       "<div>\n",
       "<style scoped>\n",
       "    .dataframe tbody tr th:only-of-type {\n",
       "        vertical-align: middle;\n",
       "    }\n",
       "\n",
       "    .dataframe tbody tr th {\n",
       "        vertical-align: top;\n",
       "    }\n",
       "\n",
       "    .dataframe thead th {\n",
       "        text-align: right;\n",
       "    }\n",
       "</style>\n",
       "<table border=\"1\" class=\"dataframe\">\n",
       "  <thead>\n",
       "    <tr style=\"text-align: right;\">\n",
       "      <th></th>\n",
       "      <th>Estado</th>\n",
       "      <th>Año</th>\n",
       "      <th>Mes</th>\n",
       "      <th>Tasa de desempleo</th>\n",
       "    </tr>\n",
       "  </thead>\n",
       "  <tbody>\n",
       "    <tr>\n",
       "      <th>0</th>\n",
       "      <td>Alaska</td>\n",
       "      <td>2010</td>\n",
       "      <td>Diciembre</td>\n",
       "      <td>8.0</td>\n",
       "    </tr>\n",
       "    <tr>\n",
       "      <th>1</th>\n",
       "      <td>Alaska</td>\n",
       "      <td>2010</td>\n",
       "      <td>Noviembre</td>\n",
       "      <td>8.1</td>\n",
       "    </tr>\n",
       "    <tr>\n",
       "      <th>2</th>\n",
       "      <td>Alaska</td>\n",
       "      <td>2010</td>\n",
       "      <td>Octubre</td>\n",
       "      <td>8.0</td>\n",
       "    </tr>\n",
       "    <tr>\n",
       "      <th>3</th>\n",
       "      <td>Alaska</td>\n",
       "      <td>2010</td>\n",
       "      <td>Septiembre</td>\n",
       "      <td>8.0</td>\n",
       "    </tr>\n",
       "    <tr>\n",
       "      <th>4</th>\n",
       "      <td>Alaska</td>\n",
       "      <td>2010</td>\n",
       "      <td>Agosto</td>\n",
       "      <td>7.9</td>\n",
       "    </tr>\n",
       "    <tr>\n",
       "      <th>...</th>\n",
       "      <td>...</td>\n",
       "      <td>...</td>\n",
       "      <td>...</td>\n",
       "      <td>...</td>\n",
       "    </tr>\n",
       "    <tr>\n",
       "      <th>115</th>\n",
       "      <td>Wyoming</td>\n",
       "      <td>2019</td>\n",
       "      <td>Mayo</td>\n",
       "      <td>3.4</td>\n",
       "    </tr>\n",
       "    <tr>\n",
       "      <th>116</th>\n",
       "      <td>Wyoming</td>\n",
       "      <td>2019</td>\n",
       "      <td>Abril</td>\n",
       "      <td>3.3</td>\n",
       "    </tr>\n",
       "    <tr>\n",
       "      <th>117</th>\n",
       "      <td>Wyoming</td>\n",
       "      <td>2019</td>\n",
       "      <td>Marzo</td>\n",
       "      <td>3.4</td>\n",
       "    </tr>\n",
       "    <tr>\n",
       "      <th>118</th>\n",
       "      <td>Wyoming</td>\n",
       "      <td>2019</td>\n",
       "      <td>Febrero</td>\n",
       "      <td>3.5</td>\n",
       "    </tr>\n",
       "    <tr>\n",
       "      <th>119</th>\n",
       "      <td>Wyoming</td>\n",
       "      <td>2019</td>\n",
       "      <td>Enero</td>\n",
       "      <td>3.7</td>\n",
       "    </tr>\n",
       "  </tbody>\n",
       "</table>\n",
       "<p>6000 rows × 4 columns</p>\n",
       "</div>"
      ],
      "text/plain": [
       "      Estado   Año         Mes  Tasa de desempleo\n",
       "0     Alaska  2010   Diciembre                8.0\n",
       "1     Alaska  2010   Noviembre                8.1\n",
       "2     Alaska  2010     Octubre                8.0\n",
       "3     Alaska  2010  Septiembre                8.0\n",
       "4     Alaska  2010      Agosto                7.9\n",
       "..       ...   ...         ...                ...\n",
       "115  Wyoming  2019        Mayo                3.4\n",
       "116  Wyoming  2019       Abril                3.3\n",
       "117  Wyoming  2019       Marzo                3.4\n",
       "118  Wyoming  2019     Febrero                3.5\n",
       "119  Wyoming  2019       Enero                3.7\n",
       "\n",
       "[6000 rows x 4 columns]"
      ]
     },
     "execution_count": 23,
     "metadata": {},
     "output_type": "execute_result"
    }
   ],
   "source": [
    "df"
   ]
  },
  {
   "cell_type": "code",
   "execution_count": 24,
   "metadata": {},
   "outputs": [],
   "source": [
    "df.to_csv('Tasa_desempleo_API.csv', index=False)"
   ]
  }
 ],
 "metadata": {
  "kernelspec": {
   "display_name": "Python 3.10.8 64-bit",
   "language": "python",
   "name": "python3"
  },
  "language_info": {
   "codemirror_mode": {
    "name": "ipython",
    "version": 3
   },
   "file_extension": ".py",
   "mimetype": "text/x-python",
   "name": "python",
   "nbconvert_exporter": "python",
   "pygments_lexer": "ipython3",
   "version": "3.10.8"
  },
  "orig_nbformat": 4,
  "vscode": {
   "interpreter": {
    "hash": "8c3d4d9970fc5c09c50d9318a9c7fbf4d0159e4b28833276f5678ee22bded273"
   }
  }
 },
 "nbformat": 4,
 "nbformat_minor": 2
}
