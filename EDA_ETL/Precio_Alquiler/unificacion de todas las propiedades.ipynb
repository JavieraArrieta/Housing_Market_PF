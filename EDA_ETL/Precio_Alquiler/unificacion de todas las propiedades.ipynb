{
 "cells": [
  {
   "cell_type": "code",
   "execution_count": null,
   "metadata": {},
   "outputs": [],
   "source": [
    "import pandas as pd\n",
    "import warnings\n",
    "import os\n",
    "warnings.filterwarnings('ignore')"
   ]
  },
  {
   "cell_type": "code",
   "execution_count": 89,
   "metadata": {},
   "outputs": [],
   "source": [
    "#Se cargaran los directorios de los csv de precios de los distintos tipos de propieades y los alquileres, separandolos en dos listas distintas.\n",
    "#Los cuales se encuentran en las carpetas \"Mediana_Alquiler_Estados\" y \"Property_Precio_Estados\"\n",
    "carpeta_alquiler = \"Mediana_Alquiler_Estados\"\n",
    "carpeta_precio = \"Property_Precio_Estados\"\n",
    "lista_dataset_alquiler = os.listdir(carpeta_alquiler)\n",
    "lista_dataset_precio = os.listdir(carpeta_precio)\n",
    "\n",
    "\n",
    "    "
   ]
  },
  {
   "cell_type": "code",
   "execution_count": 90,
   "metadata": {},
   "outputs": [],
   "source": [
    "#Creamos un dataframe vacio donde iran siendo añadidos uno a uno los demas dataset\n",
    "\n",
    "final_dataset = pd.DataFrame(columns=[\"region\",\"date\",\"price\",\"rent\",\"property_type\"])"
   ]
  },
  {
   "cell_type": "markdown",
   "metadata": {},
   "source": [
    "Creamos un loop For en el cual se iteraran simultaneamente ambas listas de directorios, para asi obtener de a pares, los precios del alquiler y\n",
    "precios de la propiedad y unificarlo todo en un mismo dataset, seperado por tipo de propiedad."
   ]
  },
  {
   "cell_type": "code",
   "execution_count": 131,
   "metadata": {},
   "outputs": [],
   "source": [
    "#Cargamos los datasets de alquiler y precio a un dataframe cada uno\n",
    "for rent,price in zip(lista_dataset_alquiler,lista_dataset_precio):\n",
    "    #Obtenemos el tipo de propiedad\n",
    "    property_type = rent[24:(rent.find(\".\"))]\n",
    "    #utiizamos los directorios\n",
    "    rent = pd.read_csv(carpeta_alquiler+\"/\"+rent)\n",
    "    price = pd.read_csv(carpeta_precio+\"/\"+price)\n",
    "    #creamos unos dataframes vacios para ir cargando los datasets de alquiler y precio que estemos recorriendo en el momento ya limpios\n",
    "    df = pd.DataFrame(columns=[\"region\",\"date\",\"rent\"])\n",
    "    df1 = pd.DataFrame(columns=[\"region\",\"date\",\"price\"])\n",
    "    #Eliminamos columnas innecesarias\n",
    "    rent = rent.drop([\"Unnamed: 0\",\"SizeRank\"],axis=1)\n",
    "    price = price.drop([\"Unnamed: 0\",\"RegionID\",\"SizeRank\",\"RegionType\",\"StateName\"],axis=1)\n",
    "    price = price.drop(price.iloc[:,[-1,-2,-3]],axis=1)\n",
    "    price=price.drop(price.columns[1:170],axis=1)\n",
    "    #Cambiamos el formato de el dataframe rent \n",
    "    for element in rent[\"RegionName\"]:\n",
    "     skip = False\n",
    "     for element1 in rent.columns:\n",
    "         if skip == False:\n",
    "             pass\n",
    "             skip = True\n",
    "         else:\n",
    "             rent_price = float(rent[rent[\"RegionName\"] == element][element1])\n",
    "             lista = [element,element1,rent_price]\n",
    "             df = df.append(pd.DataFrame([lista], columns=df.columns), ignore_index=True)\n",
    "    #Hacemos lo mismo con el dataframe de price\n",
    "    for element in price[\"RegionName\"]:\n",
    "    \n",
    "     skip = False\n",
    "     for element1 in price.columns:\n",
    "         if skip == False:\n",
    "             pass\n",
    "             skip = True\n",
    "         else:\n",
    "             property_price = float(price[price[\"RegionName\"] == element][element1])\n",
    "             lista = [element,element1,property_price]\n",
    "             df1 = df1.append(pd.DataFrame([lista], columns=df1.columns), ignore_index=True)\n",
    "    #Cambiamos el formato de la fecha del Dataframe de price, para que coincida con el de rent\n",
    "    df1[\"date\"]=(df1[\"date\"]).astype(str)\n",
    "    df1[\"date\"] = df1[\"date\"].apply(lambda x: x[0:7])\n",
    "\n",
    "    #Combinamos el dataframe de rent con el de price\n",
    "    df2 = df1.merge(df)\n",
    "    #Le añadimos el tipo de propiedad\n",
    "    df2[\"property_type\"] = property_type\n",
    "\n",
    "    #Agregamos este dataframe al dataframe final\n",
    "    final_dataset = final_dataset.append(df2,ignore_index=True)\n"
   ]
  },
  {
   "cell_type": "code",
   "execution_count": null,
   "metadata": {},
   "outputs": [],
   "source": [
    "final_dataset"
   ]
  },
  {
   "cell_type": "code",
   "execution_count": 127,
   "metadata": {},
   "outputs": [
    {
     "data": {
      "text/plain": [
       "119"
      ]
     },
     "execution_count": 127,
     "metadata": {},
     "output_type": "execute_result"
    }
   ],
   "source": []
  },
  {
   "cell_type": "code",
   "execution_count": 129,
   "metadata": {},
   "outputs": [
    {
     "name": "stdout",
     "output_type": "stream",
     "text": [
      "<class 'pandas.core.frame.DataFrame'>\n",
      "Int64Index: 6069 entries, 0 to 6068\n",
      "Data columns (total 5 columns):\n",
      " #   Column         Non-Null Count  Dtype  \n",
      "---  ------         --------------  -----  \n",
      " 0   region         6069 non-null   object \n",
      " 1   date           6069 non-null   object \n",
      " 2   price          6069 non-null   float64\n",
      " 3   rent           5288 non-null   float64\n",
      " 4   property_type  6069 non-null   object \n",
      "dtypes: float64(2), object(3)\n",
      "memory usage: 284.5+ KB\n"
     ]
    }
   ],
   "source": []
  }
 ],
 "metadata": {
  "kernelspec": {
   "display_name": "Python 3.9.13 64-bit",
   "language": "python",
   "name": "python3"
  },
  "language_info": {
   "codemirror_mode": {
    "name": "ipython",
    "version": 3
   },
   "file_extension": ".py",
   "mimetype": "text/x-python",
   "name": "python",
   "nbconvert_exporter": "python",
   "pygments_lexer": "ipython3",
   "version": "3.9.13"
  },
  "orig_nbformat": 4,
  "vscode": {
   "interpreter": {
    "hash": "5c01e3f5d77c63006669fe213228f404fdc42846a61aa9016f2e2e142d4d5c26"
   }
  }
 },
 "nbformat": 4,
 "nbformat_minor": 2
}
