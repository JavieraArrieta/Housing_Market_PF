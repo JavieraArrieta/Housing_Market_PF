{
 "cells": [
  {
   "cell_type": "code",
   "execution_count": 12,
   "metadata": {},
   "outputs": [],
   "source": [
    "import pandas as pd\n",
    "import warnings\n",
    "import os\n",
    "from pandasgui import show\n",
    "warnings.filterwarnings('ignore')"
   ]
  },
  {
   "cell_type": "code",
   "execution_count": 13,
   "metadata": {},
   "outputs": [],
   "source": [
    "#Se cargaran los directorios de los csv de precios de los distintos tipos de propieades y los alquileres, separandolos en dos listas distintas.\n",
    "#Los cuales se encuentran en las carpetas \"Mediana_Alquiler_Estados\" y \"Property_Precio_Estados\"\n",
    "carpeta_alquiler = \"Mediana_Alquiler_Estados\"\n",
    "carpeta_precio = \"Property_Precio_Estados\"\n",
    "lista_dataset_alquiler = os.listdir(carpeta_alquiler)\n",
    "lista_dataset_precio = os.listdir(carpeta_precio)\n",
    "\n",
    "\n",
    "    "
   ]
  },
  {
   "cell_type": "code",
   "execution_count": 14,
   "metadata": {},
   "outputs": [],
   "source": [
    "#Creamos un dataframe vacio donde iran siendo añadidos uno a uno los demas dataset\n",
    "\n",
    "final_dataset = pd.DataFrame(columns=[\"region\",\"date\",\"price\",\"rent\",\"property_type\"])"
   ]
  },
  {
   "cell_type": "markdown",
   "metadata": {},
   "source": [
    "Creamos un loop For en el cual se iteraran simultaneamente ambas listas de directorios, para asi obtener de a pares, los precios del alquiler y\n",
    "precios de la propiedad y unificarlo todo en un mismo dataset, seperado por tipo de propiedad."
   ]
  },
  {
   "cell_type": "code",
   "execution_count": 15,
   "metadata": {},
   "outputs": [],
   "source": [
    "#Cargamos los datasets de alquiler y precio a un dataframe cada uno\n",
    "for rent,price in zip(lista_dataset_alquiler,lista_dataset_precio):\n",
    "    #Obtenemos el tipo de propiedad\n",
    "    property_type = rent[24:(rent.find(\".\"))]\n",
    "    #utiizamos los directorios\n",
    "    rent = pd.read_csv(carpeta_alquiler+\"/\"+rent)\n",
    "    price = pd.read_csv(carpeta_precio+\"/\"+price)\n",
    "    #creamos unos dataframes vacios para ir cargando los datasets de alquiler y precio que estemos recorriendo en el momento ya limpios\n",
    "    df = pd.DataFrame(columns=[\"region\",\"date\",\"rent\"])\n",
    "    df1 = pd.DataFrame(columns=[\"region\",\"date\",\"price\"])\n",
    "    #Eliminamos columnas innecesarias\n",
    "    rent = rent.drop([\"Unnamed: 0\",\"SizeRank\"],axis=1)\n",
    "    price = price.drop([\"Unnamed: 0\",\"RegionID\",\"SizeRank\",\"RegionType\",\"StateName\"],axis=1)\n",
    "    price = price.drop(price.iloc[:,[-1,-2,-3]],axis=1)\n",
    "    price=price.drop(price.columns[1:170],axis=1)\n",
    "    #Cambiamos el formato de el dataframe rent \n",
    "    for element in rent[\"RegionName\"]:\n",
    "     skip = False\n",
    "     for element1 in rent.columns:\n",
    "         if skip == False:\n",
    "             pass\n",
    "             skip = True\n",
    "         else:\n",
    "             rent_price = float(rent[rent[\"RegionName\"] == element][element1])\n",
    "             lista = [element,element1,rent_price]\n",
    "             df = df.append(pd.DataFrame([lista], columns=df.columns), ignore_index=True)\n",
    "    #Hacemos lo mismo con el dataframe de price\n",
    "    for element in price[\"RegionName\"]:\n",
    "    \n",
    "     skip = False\n",
    "     for element1 in price.columns:\n",
    "         if skip == False:\n",
    "             pass\n",
    "             skip = True\n",
    "         else:\n",
    "             property_price = float(price[price[\"RegionName\"] == element][element1])\n",
    "             lista = [element,element1,property_price]\n",
    "             df1 = df1.append(pd.DataFrame([lista], columns=df1.columns), ignore_index=True)\n",
    "    #Cambiamos el formato de la fecha del Dataframe de price, para que coincida con el de rent\n",
    "    df1[\"date\"]=(df1[\"date\"]).astype(str)\n",
    "    df1[\"date\"] = df1[\"date\"].apply(lambda x: x[0:7])\n",
    "\n",
    "    #Combinamos el dataframe de rent con el de price\n",
    "    df2 = df1.merge(df)\n",
    "    #Le añadimos el tipo de propiedad\n",
    "    df2[\"property_type\"] = property_type\n",
    "\n",
    "    #Agregamos este dataframe al dataframe final\n",
    "    final_dataset = final_dataset.append(df2,ignore_index=True)\n"
   ]
  },
  {
   "cell_type": "code",
   "execution_count": 16,
   "metadata": {},
   "outputs": [],
   "source": [
    "#Remplazamos los valores faltantes con 0\n",
    "final_dataset = final_dataset.fillna(0)"
   ]
  },
  {
   "cell_type": "code",
   "execution_count": 17,
   "metadata": {},
   "outputs": [],
   "source": [
    "#Cambiamos la columna date a formato fecha y creamos una columnna de año\n",
    "final_dataset[\"date\"] = pd.to_datetime(final_dataset[\"date\"],format=\"%Y-%m\")\n",
    "final_dataset[\"year\"] = pd.DatetimeIndex(final_dataset[\"date\"]).year\n",
    "final_dataset[\"year\"] = final_dataset[\"year\"].astype(int)"
   ]
  },
  {
   "cell_type": "code",
   "execution_count": 18,
   "metadata": {},
   "outputs": [],
   "source": [
    "#Creamos una funcion la cual rellena el valor de la renta con el promedio de la renta en la mismo valor de region, año y tipo de propiedad\n",
    "def completar_rent(x):\n",
    "    if x[\"rent\"] < 1 :\n",
    "        año = x[\"year\"]\n",
    "        mean = 0.0\n",
    "        while mean < 1 :\n",
    "            mean = final_dataset[(final_dataset[\"region\"]==x[\"region\"]) & (final_dataset[\"rent\"] > 1) & (final_dataset[\"year\"] == año)&(final_dataset[\"property_type\"] == x[\"property_type\"])][\"rent\"].mean()\n",
    "            if mean < 1:\n",
    "                año += 1\n",
    "            else:\n",
    "                break\n",
    "        return(mean)\n",
    "    else:\n",
    "        return(x[\"rent\"])"
   ]
  },
  {
   "cell_type": "code",
   "execution_count": 32,
   "metadata": {},
   "outputs": [],
   "source": [
    "def completar_rent2(x):\n",
    "    condicion = False\n",
    "    while condicion == False:\n",
    "        mean = final_dataset[(final_dataset[\"region\"]==x[\"region\"]) & (final_dataset[\"rent\"] > 1) & (final_dataset[\"year\"] == x[\"year\"])&(final_dataset[\"property_type\"] == x[\"property_type\"])][\"rent\"].mean()\n",
    "        "
   ]
  },
  {
   "cell_type": "code",
   "execution_count": 37,
   "metadata": {},
   "outputs": [
    {
     "ename": "TypeError",
     "evalue": "'NAType' object is not callable",
     "output_type": "error",
     "traceback": [
      "\u001b[1;31m---------------------------------------------------------------------------\u001b[0m",
      "\u001b[1;31mTypeError\u001b[0m                                 Traceback (most recent call last)",
      "\u001b[1;32mc:\\Users\\elpep\\Desktop\\kpi completo\\unificacion de todas las propiedades.ipynb Celda 10\u001b[0m in \u001b[0;36m<cell line: 1>\u001b[1;34m()\u001b[0m\n\u001b[1;32m----> <a href='vscode-notebook-cell:/c%3A/Users/elpep/Desktop/kpi%20completo/unificacion%20de%20todas%20las%20propiedades.ipynb#X21sZmlsZQ%3D%3D?line=0'>1</a>\u001b[0m pd\u001b[39m.\u001b[39;49mNA() \u001b[39m>\u001b[39m \u001b[39m1\u001b[39m\n",
      "\u001b[1;31mTypeError\u001b[0m: 'NAType' object is not callable"
     ]
    }
   ],
   "source": []
  },
  {
   "cell_type": "code",
   "execution_count": 39,
   "metadata": {},
   "outputs": [],
   "source": [
    "final_dataset = final_dataset.fillna(0)"
   ]
  },
  {
   "cell_type": "code",
   "execution_count": 40,
   "metadata": {},
   "outputs": [
    {
     "ename": "TypeError",
     "evalue": "unsupported operand type(s) for &: 'list' and 'list'",
     "output_type": "error",
     "traceback": [
      "\u001b[1;31m---------------------------------------------------------------------------\u001b[0m",
      "\u001b[1;31mTypeError\u001b[0m                                 Traceback (most recent call last)",
      "\u001b[1;32mc:\\Users\\elpep\\Desktop\\kpi completo\\unificacion de todas las propiedades.ipynb Celda 12\u001b[0m in \u001b[0;36m<cell line: 1>\u001b[1;34m()\u001b[0m\n\u001b[1;32m----> <a href='vscode-notebook-cell:/c%3A/Users/elpep/Desktop/kpi%20completo/unificacion%20de%20todas%20las%20propiedades.ipynb#X16sZmlsZQ%3D%3D?line=0'>1</a>\u001b[0m final_dataset[ [final_dataset[\u001b[39m\"\u001b[39;49m\u001b[39mregion\u001b[39;49m\u001b[39m\"\u001b[39;49m]\u001b[39m==\u001b[39;49m\u001b[39m\"\u001b[39;49m\u001b[39mNew Mexico\u001b[39;49m\u001b[39m\"\u001b[39;49m] \u001b[39m&\u001b[39;49m [final_dataset[\u001b[39m\"\u001b[39;49m\u001b[39mrent\u001b[39;49m\u001b[39m\"\u001b[39;49m] \u001b[39m==\u001b[39;49m \u001b[39m0.0\u001b[39;49m]\u001b[39m&\u001b[39m [final_dataset[\u001b[39m\"\u001b[39m\u001b[39myear\u001b[39m\u001b[39m\"\u001b[39m] \u001b[39m==\u001b[39m\u001b[39m2011\u001b[39m] \u001b[39m&\u001b[39m [final_dataset[\u001b[39m\"\u001b[39m\u001b[39mproperty_type\u001b[39m\u001b[39m\"\u001b[39m]\u001b[39m==\u001b[39m\u001b[39m\"\u001b[39m\u001b[39m1Bedroom\u001b[39m\u001b[39m\"\u001b[39m]]\n",
      "\u001b[1;31mTypeError\u001b[0m: unsupported operand type(s) for &: 'list' and 'list'"
     ]
    }
   ],
   "source": [
    "final_dataset[[final_dataset[\"region\"]==\"New Mexico\"] & [final_dataset[\"rent\"] == 0.0]& [final_dataset[\"year\"] ==2011] & [final_dataset[\"property_type\"]==\"1Bedroom\"]]\n"
   ]
  },
  {
   "cell_type": "code",
   "execution_count": 24,
   "metadata": {},
   "outputs": [],
   "source": [
    "#aplicamos la funcion sobre la renta\n",
    "final_dataset[\"rent\"] = final_dataset.apply(completar_rent,axis=1)\n",
    "final_dataset = final_dataset.fillna(0)\n",
    "final_dataset[\"rent\"] = final_dataset.apply(completar_rent,axis=1)"
   ]
  },
  {
   "cell_type": "code",
   "execution_count": 20,
   "metadata": {},
   "outputs": [],
   "source": [
    "#calculamos el roi \n",
    "def calculate_Roi(x):\n",
    "    return(x[\"price\"]/x[\"rent\"]/12)\n",
    "\n",
    "final_dataset[\"roi\"] = final_dataset.apply(calculate_Roi,axis=1)\n",
    "\n"
   ]
  },
  {
   "cell_type": "code",
   "execution_count": 25,
   "metadata": {},
   "outputs": [
    {
     "name": "stderr",
     "output_type": "stream",
     "text": [
      "PandasGUI INFO — pandasgui.gui — Opening PandasGUI\n"
     ]
    },
    {
     "data": {
      "text/plain": [
       "<pandasgui.gui.PandasGui at 0x172160b1820>"
      ]
     },
     "execution_count": 25,
     "metadata": {},
     "output_type": "execute_result"
    }
   ],
   "source": [
    "#previsualizacion de la tabla\n",
    "show(final_dataset)"
   ]
  },
  {
   "cell_type": "code",
   "execution_count": 22,
   "metadata": {},
   "outputs": [],
   "source": [
    "#Pasamos el dataframe a csv\n",
    "final_dataset.to_csv(\"Price_Rent_Roi.csv\",index=False)"
   ]
  },
  {
   "cell_type": "code",
   "execution_count": null,
   "metadata": {},
   "outputs": [],
   "source": []
  }
 ],
 "metadata": {
  "kernelspec": {
   "display_name": "Python 3.9.13 64-bit",
   "language": "python",
   "name": "python3"
  },
  "language_info": {
   "codemirror_mode": {
    "name": "ipython",
    "version": 3
   },
   "file_extension": ".py",
   "mimetype": "text/x-python",
   "name": "python",
   "nbconvert_exporter": "python",
   "pygments_lexer": "ipython3",
   "version": "3.9.13"
  },
  "orig_nbformat": 4,
  "vscode": {
   "interpreter": {
    "hash": "5c01e3f5d77c63006669fe213228f404fdc42846a61aa9016f2e2e142d4d5c26"
   }
  }
 },
 "nbformat": 4,
 "nbformat_minor": 2
}
