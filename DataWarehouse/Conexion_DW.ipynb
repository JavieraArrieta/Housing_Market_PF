{
 "cells": [
  {
   "cell_type": "code",
   "execution_count": 1,
   "id": "8c4176f9",
   "metadata": {},
   "outputs": [],
   "source": [
    "#Conexion al Cluster\n",
    "import redshift_connector\n",
    "conn = redshift_connector.connect(\n",
    "    host='primer-redshift.cayumx8bbo8y.us-west-2.redshift.amazonaws.com',\n",
    "    database='markethousing',\n",
    "    user='awsuser',\n",
    "    port=5439,\n",
    "    password='Aws-grupo12'\n",
    "  )"
   ]
  },
  {
   "cell_type": "code",
   "execution_count": 2,
   "id": "2b728821",
   "metadata": {},
   "outputs": [],
   "source": [
    "# Creamos el objeto cursor\n",
    "cursor = conn.cursor()"
   ]
  },
  {
   "cell_type": "code",
   "execution_count": 14,
   "id": "d1896c52",
   "metadata": {},
   "outputs": [
    {
     "data": {
      "text/plain": [
       "<redshift_connector.cursor.Cursor at 0x7ffad5ff0d30>"
      ]
     },
     "execution_count": 14,
     "metadata": {},
     "output_type": "execute_result"
    }
   ],
   "source": [
    "# Query de prueba\n",
    "cursor.execute(\"select * from estado\")"
   ]
  },
  {
   "cell_type": "code",
   "execution_count": 15,
   "id": "5f86d02d",
   "metadata": {},
   "outputs": [
    {
     "data": {
      "text/html": [
       "<div>\n",
       "<style scoped>\n",
       "    .dataframe tbody tr th:only-of-type {\n",
       "        vertical-align: middle;\n",
       "    }\n",
       "\n",
       "    .dataframe tbody tr th {\n",
       "        vertical-align: top;\n",
       "    }\n",
       "\n",
       "    .dataframe thead th {\n",
       "        text-align: right;\n",
       "    }\n",
       "</style>\n",
       "<table border=\"1\" class=\"dataframe\">\n",
       "  <thead>\n",
       "    <tr style=\"text-align: right;\">\n",
       "      <th></th>\n",
       "      <th>id_estado</th>\n",
       "      <th>codigo_estado</th>\n",
       "      <th>nombre_estad</th>\n",
       "    </tr>\n",
       "  </thead>\n",
       "  <tbody>\n",
       "    <tr>\n",
       "      <th>0</th>\n",
       "      <td>1</td>\n",
       "      <td>CA</td>\n",
       "      <td>California</td>\n",
       "    </tr>\n",
       "    <tr>\n",
       "      <th>1</th>\n",
       "      <td>2</td>\n",
       "      <td>TX</td>\n",
       "      <td>Texas</td>\n",
       "    </tr>\n",
       "    <tr>\n",
       "      <th>2</th>\n",
       "      <td>3</td>\n",
       "      <td>NY</td>\n",
       "      <td>New York</td>\n",
       "    </tr>\n",
       "    <tr>\n",
       "      <th>3</th>\n",
       "      <td>4</td>\n",
       "      <td>FL</td>\n",
       "      <td>Florida</td>\n",
       "    </tr>\n",
       "    <tr>\n",
       "      <th>4</th>\n",
       "      <td>5</td>\n",
       "      <td>IL</td>\n",
       "      <td>Illinois</td>\n",
       "    </tr>\n",
       "  </tbody>\n",
       "</table>\n",
       "</div>"
      ],
      "text/plain": [
       "  id_estado codigo_estado nombre_estad\n",
       "0         1            CA   California\n",
       "1         2            TX        Texas\n",
       "2         3            NY     New York\n",
       "3         4            FL      Florida\n",
       "4         5            IL     Illinois"
      ]
     },
     "execution_count": 15,
     "metadata": {},
     "output_type": "execute_result"
    }
   ],
   "source": [
    "estados: pd.DataFrame = cursor.fetch_dataframe()\n",
    "estados.head()"
   ]
  },
  {
   "cell_type": "code",
   "execution_count": 5,
   "id": "cf0df8f6",
   "metadata": {},
   "outputs": [],
   "source": [
    "import pandas as pd"
   ]
  },
  {
   "cell_type": "code",
   "execution_count": 7,
   "id": "f560dd1b",
   "metadata": {},
   "outputs": [
    {
     "name": "stdout",
     "output_type": "stream",
     "text": [
      "   id_estado      estado fecha personas_en_riesgo porcentaje_riesgo_pobreza\n",
      "0         CA  California  2020               4318                      11.0\n",
      "1         CA  California  2019               3.98                      10.1\n",
      "2         CA  California  2018               4664                      11.9\n",
      "3         CA  California  2017               4759                      12.1\n",
      "4         CA  California  2016               5435                      13.9\n",
      "5         CA  California  2015               5441                      13.9\n",
      "6         CA  California  2014               6112                      15.8\n",
      "7         CA  California  2013               5754                      15.1\n",
      "8         CA  California  2012               6015                      15.9\n",
      "9         CA  California  2011               6352                      16.9\n",
      "10        CA  California  2010               6073                      16.3\n",
      "11        CA  California  2009               5638                      15.3\n",
      "12        CA  California  2008               5344                      14.6\n",
      "13        CA  California  2007               4589                      12.7\n",
      "14        CA  California  2006               4427                      12.2\n",
      "15        CA  California  2005               4716                      13.2\n",
      "16        CA  California  2004               4724                      13.2\n",
      "17        CA  California  2003               4634                      13.1\n",
      "18        CA  California  2002               4605                      13.1\n",
      "19        CA  California  2001               4321                      12.6\n",
      "20        CA  California  2000               4294                      12.7\n",
      "21        CA  California  1999               4733                      14.0\n",
      "22        CA  California  1998               5118                      15.4\n",
      "23        CA  California  1997               5459                      16.6\n",
      "24        CA  California  1996               5472                      16.9\n",
      "25        CA  California  1995               5342                      16.7\n",
      "26        CA  California  1994               5658                      17.9\n",
      "27        CA  California  1993               5803                      18.2\n",
      "28        CA  California  1992               5197                      16.4\n",
      "29        CA  California  1991               4825                      15.7\n",
      "30        CA  California  1990               4128                      13.9\n",
      "31        CA  California  1989               3772                      12.9\n",
      "32        CA  California  1988               3687                      13.2\n",
      "33        CA  California  1987               3443                      12.3\n",
      "34        CA  California  1986               3453                      12.7\n",
      "35        CA  California  1985               3596                      13.6\n",
      "36        CA  California  1984               3375                      13.2\n",
      "37        CA  California  1983               3755                      14.9\n",
      "38        CA  California  1982               3475                      14.1\n",
      "39        CA  California  1981               3216                      13.3\n",
      "40        CA  California  1980               2619                      11.0\n"
     ]
    }
   ],
   "source": [
    "cursor.execute(\"select * from pobreza_estados where id_estado = 'CA';\")\n",
    "result: pd.DataFrame = cursor.fetch_dataframe()\n",
    "print(result)"
   ]
  },
  {
   "cell_type": "code",
   "execution_count": 8,
   "id": "cb36ef50",
   "metadata": {},
   "outputs": [
    {
     "data": {
      "text/html": [
       "<div>\n",
       "<style scoped>\n",
       "    .dataframe tbody tr th:only-of-type {\n",
       "        vertical-align: middle;\n",
       "    }\n",
       "\n",
       "    .dataframe tbody tr th {\n",
       "        vertical-align: top;\n",
       "    }\n",
       "\n",
       "    .dataframe thead th {\n",
       "        text-align: right;\n",
       "    }\n",
       "</style>\n",
       "<table border=\"1\" class=\"dataframe\">\n",
       "  <thead>\n",
       "    <tr style=\"text-align: right;\">\n",
       "      <th></th>\n",
       "      <th>id_estado</th>\n",
       "      <th>estado</th>\n",
       "      <th>fecha</th>\n",
       "      <th>personas_en_riesgo</th>\n",
       "      <th>porcentaje_riesgo_pobreza</th>\n",
       "    </tr>\n",
       "  </thead>\n",
       "  <tbody>\n",
       "    <tr>\n",
       "      <th>0</th>\n",
       "      <td>CA</td>\n",
       "      <td>California</td>\n",
       "      <td>2020</td>\n",
       "      <td>4318</td>\n",
       "      <td>11.0</td>\n",
       "    </tr>\n",
       "    <tr>\n",
       "      <th>1</th>\n",
       "      <td>CA</td>\n",
       "      <td>California</td>\n",
       "      <td>2019</td>\n",
       "      <td>3.98</td>\n",
       "      <td>10.1</td>\n",
       "    </tr>\n",
       "    <tr>\n",
       "      <th>2</th>\n",
       "      <td>CA</td>\n",
       "      <td>California</td>\n",
       "      <td>2018</td>\n",
       "      <td>4664</td>\n",
       "      <td>11.9</td>\n",
       "    </tr>\n",
       "    <tr>\n",
       "      <th>3</th>\n",
       "      <td>CA</td>\n",
       "      <td>California</td>\n",
       "      <td>2017</td>\n",
       "      <td>4759</td>\n",
       "      <td>12.1</td>\n",
       "    </tr>\n",
       "    <tr>\n",
       "      <th>4</th>\n",
       "      <td>CA</td>\n",
       "      <td>California</td>\n",
       "      <td>2016</td>\n",
       "      <td>5435</td>\n",
       "      <td>13.9</td>\n",
       "    </tr>\n",
       "  </tbody>\n",
       "</table>\n",
       "</div>"
      ],
      "text/plain": [
       "  id_estado      estado fecha personas_en_riesgo porcentaje_riesgo_pobreza\n",
       "0        CA  California  2020               4318                      11.0\n",
       "1        CA  California  2019               3.98                      10.1\n",
       "2        CA  California  2018               4664                      11.9\n",
       "3        CA  California  2017               4759                      12.1\n",
       "4        CA  California  2016               5435                      13.9"
      ]
     },
     "execution_count": 8,
     "metadata": {},
     "output_type": "execute_result"
    }
   ],
   "source": [
    "result.head()"
   ]
  },
  {
   "cell_type": "code",
   "execution_count": null,
   "id": "be33fdec",
   "metadata": {},
   "outputs": [],
   "source": []
  }
 ],
 "metadata": {
  "kernelspec": {
   "display_name": "Python 3 (ipykernel)",
   "language": "python",
   "name": "python3"
  },
  "language_info": {
   "codemirror_mode": {
    "name": "ipython",
    "version": 3
   },
   "file_extension": ".py",
   "mimetype": "text/x-python",
   "name": "python",
   "nbconvert_exporter": "python",
   "pygments_lexer": "ipython3",
   "version": "3.8.5"
  }
 },
 "nbformat": 4,
 "nbformat_minor": 5
}
